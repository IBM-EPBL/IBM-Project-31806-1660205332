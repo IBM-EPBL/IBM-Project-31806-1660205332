{
 "cells": [
  {
   "cell_type": "markdown",
   "id": "6304afb0",
   "metadata": {},
   "source": [
    "### Importing the Libraries"
   ]
  },
  {
   "cell_type": "code",
   "execution_count": 1,
   "id": "1754dada",
   "metadata": {},
   "outputs": [],
   "source": [
    "import numpy as np\n",
    "import pandas as pd\n",
    "import matplotlib.pyplot as plt\n",
    "import seaborn as sns"
   ]
  },
  {
   "cell_type": "markdown",
   "id": "90c7f527",
   "metadata": {},
   "source": [
    "### Loading the Dataset"
   ]
  },
  {
   "cell_type": "code",
   "execution_count": 2,
   "id": "b2e2c645",
   "metadata": {},
   "outputs": [],
   "source": [
    "df=pd.read_csv('Dataset/car_performance.csv')"
   ]
  },
  {
   "cell_type": "markdown",
   "id": "8a177683",
   "metadata": {},
   "source": [
    "### Data Analysis"
   ]
  },
  {
   "cell_type": "code",
   "execution_count": 3,
   "id": "dbeb2d9b",
   "metadata": {},
   "outputs": [
    {
     "data": {
      "text/html": [
       "<div>\n",
       "<style scoped>\n",
       "    .dataframe tbody tr th:only-of-type {\n",
       "        vertical-align: middle;\n",
       "    }\n",
       "\n",
       "    .dataframe tbody tr th {\n",
       "        vertical-align: top;\n",
       "    }\n",
       "\n",
       "    .dataframe thead th {\n",
       "        text-align: right;\n",
       "    }\n",
       "</style>\n",
       "<table border=\"1\" class=\"dataframe\">\n",
       "  <thead>\n",
       "    <tr style=\"text-align: right;\">\n",
       "      <th></th>\n",
       "      <th>mpg</th>\n",
       "      <th>cylinders</th>\n",
       "      <th>displacement</th>\n",
       "      <th>horsepower</th>\n",
       "      <th>weight</th>\n",
       "      <th>acceleration</th>\n",
       "      <th>model year</th>\n",
       "      <th>origin</th>\n",
       "      <th>car name</th>\n",
       "    </tr>\n",
       "  </thead>\n",
       "  <tbody>\n",
       "    <tr>\n",
       "      <th>0</th>\n",
       "      <td>18.0</td>\n",
       "      <td>8</td>\n",
       "      <td>307.0</td>\n",
       "      <td>130</td>\n",
       "      <td>3504</td>\n",
       "      <td>12.0</td>\n",
       "      <td>70</td>\n",
       "      <td>1</td>\n",
       "      <td>chevrolet chevelle malibu</td>\n",
       "    </tr>\n",
       "    <tr>\n",
       "      <th>1</th>\n",
       "      <td>15.0</td>\n",
       "      <td>8</td>\n",
       "      <td>350.0</td>\n",
       "      <td>165</td>\n",
       "      <td>3693</td>\n",
       "      <td>11.5</td>\n",
       "      <td>70</td>\n",
       "      <td>1</td>\n",
       "      <td>buick skylark 320</td>\n",
       "    </tr>\n",
       "    <tr>\n",
       "      <th>2</th>\n",
       "      <td>18.0</td>\n",
       "      <td>8</td>\n",
       "      <td>318.0</td>\n",
       "      <td>150</td>\n",
       "      <td>3436</td>\n",
       "      <td>11.0</td>\n",
       "      <td>70</td>\n",
       "      <td>1</td>\n",
       "      <td>plymouth satellite</td>\n",
       "    </tr>\n",
       "    <tr>\n",
       "      <th>3</th>\n",
       "      <td>16.0</td>\n",
       "      <td>8</td>\n",
       "      <td>304.0</td>\n",
       "      <td>150</td>\n",
       "      <td>3433</td>\n",
       "      <td>12.0</td>\n",
       "      <td>70</td>\n",
       "      <td>1</td>\n",
       "      <td>amc rebel sst</td>\n",
       "    </tr>\n",
       "    <tr>\n",
       "      <th>4</th>\n",
       "      <td>17.0</td>\n",
       "      <td>8</td>\n",
       "      <td>302.0</td>\n",
       "      <td>140</td>\n",
       "      <td>3449</td>\n",
       "      <td>10.5</td>\n",
       "      <td>70</td>\n",
       "      <td>1</td>\n",
       "      <td>ford torino</td>\n",
       "    </tr>\n",
       "    <tr>\n",
       "      <th>5</th>\n",
       "      <td>15.0</td>\n",
       "      <td>8</td>\n",
       "      <td>429.0</td>\n",
       "      <td>198</td>\n",
       "      <td>4341</td>\n",
       "      <td>10.0</td>\n",
       "      <td>70</td>\n",
       "      <td>1</td>\n",
       "      <td>ford galaxie 500</td>\n",
       "    </tr>\n",
       "    <tr>\n",
       "      <th>6</th>\n",
       "      <td>14.0</td>\n",
       "      <td>8</td>\n",
       "      <td>454.0</td>\n",
       "      <td>220</td>\n",
       "      <td>4354</td>\n",
       "      <td>9.0</td>\n",
       "      <td>70</td>\n",
       "      <td>1</td>\n",
       "      <td>chevrolet impala</td>\n",
       "    </tr>\n",
       "    <tr>\n",
       "      <th>7</th>\n",
       "      <td>14.0</td>\n",
       "      <td>8</td>\n",
       "      <td>440.0</td>\n",
       "      <td>215</td>\n",
       "      <td>4312</td>\n",
       "      <td>8.5</td>\n",
       "      <td>70</td>\n",
       "      <td>1</td>\n",
       "      <td>plymouth fury iii</td>\n",
       "    </tr>\n",
       "    <tr>\n",
       "      <th>8</th>\n",
       "      <td>14.0</td>\n",
       "      <td>8</td>\n",
       "      <td>455.0</td>\n",
       "      <td>225</td>\n",
       "      <td>4425</td>\n",
       "      <td>10.0</td>\n",
       "      <td>70</td>\n",
       "      <td>1</td>\n",
       "      <td>pontiac catalina</td>\n",
       "    </tr>\n",
       "    <tr>\n",
       "      <th>9</th>\n",
       "      <td>15.0</td>\n",
       "      <td>8</td>\n",
       "      <td>390.0</td>\n",
       "      <td>190</td>\n",
       "      <td>3850</td>\n",
       "      <td>8.5</td>\n",
       "      <td>70</td>\n",
       "      <td>1</td>\n",
       "      <td>amc ambassador dpl</td>\n",
       "    </tr>\n",
       "  </tbody>\n",
       "</table>\n",
       "</div>"
      ],
      "text/plain": [
       "    mpg  cylinders  displacement  horsepower  weight  acceleration  \\\n",
       "0  18.0          8         307.0         130    3504          12.0   \n",
       "1  15.0          8         350.0         165    3693          11.5   \n",
       "2  18.0          8         318.0         150    3436          11.0   \n",
       "3  16.0          8         304.0         150    3433          12.0   \n",
       "4  17.0          8         302.0         140    3449          10.5   \n",
       "5  15.0          8         429.0         198    4341          10.0   \n",
       "6  14.0          8         454.0         220    4354           9.0   \n",
       "7  14.0          8         440.0         215    4312           8.5   \n",
       "8  14.0          8         455.0         225    4425          10.0   \n",
       "9  15.0          8         390.0         190    3850           8.5   \n",
       "\n",
       "   model year  origin                   car name  \n",
       "0          70       1  chevrolet chevelle malibu  \n",
       "1          70       1          buick skylark 320  \n",
       "2          70       1         plymouth satellite  \n",
       "3          70       1              amc rebel sst  \n",
       "4          70       1                ford torino  \n",
       "5          70       1           ford galaxie 500  \n",
       "6          70       1           chevrolet impala  \n",
       "7          70       1          plymouth fury iii  \n",
       "8          70       1           pontiac catalina  \n",
       "9          70       1         amc ambassador dpl  "
      ]
     },
     "execution_count": 3,
     "metadata": {},
     "output_type": "execute_result"
    }
   ],
   "source": [
    "df.head(10)"
   ]
  },
  {
   "cell_type": "code",
   "execution_count": 4,
   "id": "33a6492d",
   "metadata": {},
   "outputs": [
    {
     "data": {
      "text/plain": [
       "(398, 9)"
      ]
     },
     "execution_count": 4,
     "metadata": {},
     "output_type": "execute_result"
    }
   ],
   "source": [
    "df.shape"
   ]
  },
  {
   "cell_type": "code",
   "execution_count": 5,
   "id": "83c29c99",
   "metadata": {},
   "outputs": [
    {
     "data": {
      "text/plain": [
       "Index(['mpg', 'cylinders', 'displacement', 'horsepower', 'weight',\n",
       "       'acceleration', 'model year', 'origin', 'car name'],\n",
       "      dtype='object')"
      ]
     },
     "execution_count": 5,
     "metadata": {},
     "output_type": "execute_result"
    }
   ],
   "source": [
    "df.columns"
   ]
  },
  {
   "cell_type": "code",
   "execution_count": 6,
   "id": "25a467dd",
   "metadata": {},
   "outputs": [
    {
     "name": "stdout",
     "output_type": "stream",
     "text": [
      "<class 'pandas.core.frame.DataFrame'>\n",
      "RangeIndex: 398 entries, 0 to 397\n",
      "Data columns (total 9 columns):\n",
      " #   Column        Non-Null Count  Dtype  \n",
      "---  ------        --------------  -----  \n",
      " 0   mpg           398 non-null    float64\n",
      " 1   cylinders     398 non-null    int64  \n",
      " 2   displacement  398 non-null    float64\n",
      " 3   horsepower    398 non-null    int64  \n",
      " 4   weight        398 non-null    int64  \n",
      " 5   acceleration  398 non-null    float64\n",
      " 6   model year    398 non-null    int64  \n",
      " 7   origin        398 non-null    int64  \n",
      " 8   car name      398 non-null    object \n",
      "dtypes: float64(3), int64(5), object(1)\n",
      "memory usage: 28.1+ KB\n"
     ]
    }
   ],
   "source": [
    "df.info()"
   ]
  },
  {
   "cell_type": "code",
   "execution_count": 7,
   "id": "03f194e7",
   "metadata": {},
   "outputs": [
    {
     "data": {
      "text/plain": [
       "mpg             129\n",
       "cylinders         5\n",
       "displacement     82\n",
       "horsepower       93\n",
       "weight          351\n",
       "acceleration     95\n",
       "model year       13\n",
       "origin            3\n",
       "car name        305\n",
       "dtype: int64"
      ]
     },
     "execution_count": 7,
     "metadata": {},
     "output_type": "execute_result"
    }
   ],
   "source": [
    "df.nunique()"
   ]
  },
  {
   "cell_type": "code",
   "execution_count": 8,
   "id": "dd48c71c",
   "metadata": {},
   "outputs": [
    {
     "data": {
      "text/plain": [
       "array([1, 3, 2])"
      ]
     },
     "execution_count": 8,
     "metadata": {},
     "output_type": "execute_result"
    }
   ],
   "source": [
    "df.origin.unique()"
   ]
  },
  {
   "cell_type": "markdown",
   "id": "70ce0777",
   "metadata": {},
   "source": [
    "### Handiling the Missing Values"
   ]
  },
  {
   "cell_type": "code",
   "execution_count": 9,
   "id": "be04b914",
   "metadata": {},
   "outputs": [
    {
     "data": {
      "text/plain": [
       "mpg             0\n",
       "cylinders       0\n",
       "displacement    0\n",
       "horsepower      0\n",
       "weight          0\n",
       "acceleration    0\n",
       "model year      0\n",
       "origin          0\n",
       "car name        0\n",
       "dtype: int64"
      ]
     },
     "execution_count": 9,
     "metadata": {},
     "output_type": "execute_result"
    }
   ],
   "source": [
    "df.isna().sum()"
   ]
  },
  {
   "cell_type": "code",
   "execution_count": 10,
   "id": "8d4900c3",
   "metadata": {},
   "outputs": [],
   "source": [
    "# There is no Null Value in the data set"
   ]
  },
  {
   "cell_type": "markdown",
   "id": "1f69086d",
   "metadata": {},
   "source": [
    "### Lable encoding"
   ]
  },
  {
   "cell_type": "code",
   "execution_count": 11,
   "id": "e0f03dc1",
   "metadata": {},
   "outputs": [],
   "source": [
    "# There is no Categorial value other than the car name (car name is not used for the performance predecting so we can drop the car name column), so we need not to do the label encoding"
   ]
  },
  {
   "cell_type": "markdown",
   "id": "173cd4ac",
   "metadata": {},
   "source": [
    "### Droping the car name column"
   ]
  },
  {
   "cell_type": "code",
   "execution_count": 12,
   "id": "049b9700",
   "metadata": {},
   "outputs": [],
   "source": [
    "df=df.iloc[:,:-1]"
   ]
  },
  {
   "cell_type": "code",
   "execution_count": 13,
   "id": "370652ea",
   "metadata": {},
   "outputs": [
    {
     "data": {
      "text/html": [
       "<div>\n",
       "<style scoped>\n",
       "    .dataframe tbody tr th:only-of-type {\n",
       "        vertical-align: middle;\n",
       "    }\n",
       "\n",
       "    .dataframe tbody tr th {\n",
       "        vertical-align: top;\n",
       "    }\n",
       "\n",
       "    .dataframe thead th {\n",
       "        text-align: right;\n",
       "    }\n",
       "</style>\n",
       "<table border=\"1\" class=\"dataframe\">\n",
       "  <thead>\n",
       "    <tr style=\"text-align: right;\">\n",
       "      <th></th>\n",
       "      <th>mpg</th>\n",
       "      <th>cylinders</th>\n",
       "      <th>displacement</th>\n",
       "      <th>horsepower</th>\n",
       "      <th>weight</th>\n",
       "      <th>acceleration</th>\n",
       "      <th>model year</th>\n",
       "      <th>origin</th>\n",
       "    </tr>\n",
       "  </thead>\n",
       "  <tbody>\n",
       "    <tr>\n",
       "      <th>0</th>\n",
       "      <td>18.0</td>\n",
       "      <td>8</td>\n",
       "      <td>307.0</td>\n",
       "      <td>130</td>\n",
       "      <td>3504</td>\n",
       "      <td>12.0</td>\n",
       "      <td>70</td>\n",
       "      <td>1</td>\n",
       "    </tr>\n",
       "    <tr>\n",
       "      <th>1</th>\n",
       "      <td>15.0</td>\n",
       "      <td>8</td>\n",
       "      <td>350.0</td>\n",
       "      <td>165</td>\n",
       "      <td>3693</td>\n",
       "      <td>11.5</td>\n",
       "      <td>70</td>\n",
       "      <td>1</td>\n",
       "    </tr>\n",
       "    <tr>\n",
       "      <th>2</th>\n",
       "      <td>18.0</td>\n",
       "      <td>8</td>\n",
       "      <td>318.0</td>\n",
       "      <td>150</td>\n",
       "      <td>3436</td>\n",
       "      <td>11.0</td>\n",
       "      <td>70</td>\n",
       "      <td>1</td>\n",
       "    </tr>\n",
       "    <tr>\n",
       "      <th>3</th>\n",
       "      <td>16.0</td>\n",
       "      <td>8</td>\n",
       "      <td>304.0</td>\n",
       "      <td>150</td>\n",
       "      <td>3433</td>\n",
       "      <td>12.0</td>\n",
       "      <td>70</td>\n",
       "      <td>1</td>\n",
       "    </tr>\n",
       "    <tr>\n",
       "      <th>4</th>\n",
       "      <td>17.0</td>\n",
       "      <td>8</td>\n",
       "      <td>302.0</td>\n",
       "      <td>140</td>\n",
       "      <td>3449</td>\n",
       "      <td>10.5</td>\n",
       "      <td>70</td>\n",
       "      <td>1</td>\n",
       "    </tr>\n",
       "  </tbody>\n",
       "</table>\n",
       "</div>"
      ],
      "text/plain": [
       "    mpg  cylinders  displacement  horsepower  weight  acceleration  \\\n",
       "0  18.0          8         307.0         130    3504          12.0   \n",
       "1  15.0          8         350.0         165    3693          11.5   \n",
       "2  18.0          8         318.0         150    3436          11.0   \n",
       "3  16.0          8         304.0         150    3433          12.0   \n",
       "4  17.0          8         302.0         140    3449          10.5   \n",
       "\n",
       "   model year  origin  \n",
       "0          70       1  \n",
       "1          70       1  \n",
       "2          70       1  \n",
       "3          70       1  \n",
       "4          70       1  "
      ]
     },
     "execution_count": 13,
     "metadata": {},
     "output_type": "execute_result"
    }
   ],
   "source": [
    "df.head()"
   ]
  },
  {
   "cell_type": "markdown",
   "id": "857be600",
   "metadata": {},
   "source": [
    "### Splitting the dataset into dependent and independent Variable"
   ]
  },
  {
   "cell_type": "code",
   "execution_count": 14,
   "id": "d9b48cc1",
   "metadata": {},
   "outputs": [],
   "source": [
    "x=df.iloc[:,1:]"
   ]
  },
  {
   "cell_type": "code",
   "execution_count": 15,
   "id": "3d9780d9",
   "metadata": {},
   "outputs": [],
   "source": [
    "y=df.iloc[:,0]"
   ]
  },
  {
   "cell_type": "code",
   "execution_count": 16,
   "id": "b9c8b2ea",
   "metadata": {},
   "outputs": [
    {
     "data": {
      "text/html": [
       "<div>\n",
       "<style scoped>\n",
       "    .dataframe tbody tr th:only-of-type {\n",
       "        vertical-align: middle;\n",
       "    }\n",
       "\n",
       "    .dataframe tbody tr th {\n",
       "        vertical-align: top;\n",
       "    }\n",
       "\n",
       "    .dataframe thead th {\n",
       "        text-align: right;\n",
       "    }\n",
       "</style>\n",
       "<table border=\"1\" class=\"dataframe\">\n",
       "  <thead>\n",
       "    <tr style=\"text-align: right;\">\n",
       "      <th></th>\n",
       "      <th>cylinders</th>\n",
       "      <th>displacement</th>\n",
       "      <th>horsepower</th>\n",
       "      <th>weight</th>\n",
       "      <th>acceleration</th>\n",
       "      <th>model year</th>\n",
       "      <th>origin</th>\n",
       "    </tr>\n",
       "  </thead>\n",
       "  <tbody>\n",
       "    <tr>\n",
       "      <th>0</th>\n",
       "      <td>8</td>\n",
       "      <td>307.0</td>\n",
       "      <td>130</td>\n",
       "      <td>3504</td>\n",
       "      <td>12.0</td>\n",
       "      <td>70</td>\n",
       "      <td>1</td>\n",
       "    </tr>\n",
       "    <tr>\n",
       "      <th>1</th>\n",
       "      <td>8</td>\n",
       "      <td>350.0</td>\n",
       "      <td>165</td>\n",
       "      <td>3693</td>\n",
       "      <td>11.5</td>\n",
       "      <td>70</td>\n",
       "      <td>1</td>\n",
       "    </tr>\n",
       "    <tr>\n",
       "      <th>2</th>\n",
       "      <td>8</td>\n",
       "      <td>318.0</td>\n",
       "      <td>150</td>\n",
       "      <td>3436</td>\n",
       "      <td>11.0</td>\n",
       "      <td>70</td>\n",
       "      <td>1</td>\n",
       "    </tr>\n",
       "    <tr>\n",
       "      <th>3</th>\n",
       "      <td>8</td>\n",
       "      <td>304.0</td>\n",
       "      <td>150</td>\n",
       "      <td>3433</td>\n",
       "      <td>12.0</td>\n",
       "      <td>70</td>\n",
       "      <td>1</td>\n",
       "    </tr>\n",
       "    <tr>\n",
       "      <th>4</th>\n",
       "      <td>8</td>\n",
       "      <td>302.0</td>\n",
       "      <td>140</td>\n",
       "      <td>3449</td>\n",
       "      <td>10.5</td>\n",
       "      <td>70</td>\n",
       "      <td>1</td>\n",
       "    </tr>\n",
       "  </tbody>\n",
       "</table>\n",
       "</div>"
      ],
      "text/plain": [
       "   cylinders  displacement  horsepower  weight  acceleration  model year  \\\n",
       "0          8         307.0         130    3504          12.0          70   \n",
       "1          8         350.0         165    3693          11.5          70   \n",
       "2          8         318.0         150    3436          11.0          70   \n",
       "3          8         304.0         150    3433          12.0          70   \n",
       "4          8         302.0         140    3449          10.5          70   \n",
       "\n",
       "   origin  \n",
       "0       1  \n",
       "1       1  \n",
       "2       1  \n",
       "3       1  \n",
       "4       1  "
      ]
     },
     "execution_count": 16,
     "metadata": {},
     "output_type": "execute_result"
    }
   ],
   "source": [
    "x.head()"
   ]
  },
  {
   "cell_type": "code",
   "execution_count": 17,
   "id": "160e129e",
   "metadata": {},
   "outputs": [
    {
     "data": {
      "text/plain": [
       "0    18.0\n",
       "1    15.0\n",
       "2    18.0\n",
       "3    16.0\n",
       "4    17.0\n",
       "Name: mpg, dtype: float64"
      ]
     },
     "execution_count": 17,
     "metadata": {},
     "output_type": "execute_result"
    }
   ],
   "source": [
    "y.head()"
   ]
  },
  {
   "cell_type": "markdown",
   "id": "93ee36cb",
   "metadata": {},
   "source": [
    "### Splitting the dataset into train and test"
   ]
  },
  {
   "cell_type": "code",
   "execution_count": 18,
   "id": "5a09ff55",
   "metadata": {},
   "outputs": [],
   "source": [
    "from sklearn.model_selection import train_test_split\n",
    "x_train,x_test, y_train, y_test = train_test_split(x,y,test_size=0.2)"
   ]
  },
  {
   "cell_type": "code",
   "execution_count": 19,
   "id": "9f180e16",
   "metadata": {},
   "outputs": [
    {
     "data": {
      "text/plain": [
       "((318, 7), (80, 7), (318,), (80,))"
      ]
     },
     "execution_count": 19,
     "metadata": {},
     "output_type": "execute_result"
    }
   ],
   "source": [
    "x_train.shape,x_test.shape,y_train.shape,y_test.shape"
   ]
  },
  {
   "cell_type": "markdown",
   "id": "2ce21e0d",
   "metadata": {},
   "source": [
    "### Normalizing the values"
   ]
  },
  {
   "cell_type": "code",
   "execution_count": 20,
   "id": "60802dee",
   "metadata": {},
   "outputs": [],
   "source": [
    "from sklearn.preprocessing import StandardScaler\n",
    "sd = StandardScaler()\n",
    "x_train=sd.fit_transform(x_train)\n",
    "x_test=sd.fit_transform(x_test)"
   ]
  },
  {
   "cell_type": "code",
   "execution_count": 21,
   "id": "d8312c2b",
   "metadata": {},
   "outputs": [
    {
     "data": {
      "text/plain": [
       "array([[-0.87925856, -0.93842909, -0.41746237, ..., -0.38362006,\n",
       "        -1.69368876,  1.80204991],\n",
       "       [ 0.29308619,  0.34405003,  0.02357761, ...,  1.29630536,\n",
       "         0.51592365, -0.70583574],\n",
       "       [-0.87925856, -0.92885835, -0.54718001, ...,  0.11678325,\n",
       "         0.2397221 , -0.70583574],\n",
       "       ...,\n",
       "       [ 1.46543094,  1.38726066,  1.45047165, ..., -2.70692117,\n",
       "        -1.69368876, -0.70583574],\n",
       "       [ 0.29308619,  0.2866256 ,  0.02357761, ...,  0.33124182,\n",
       "        -0.58888255, -0.70583574],\n",
       "       [-0.87925856, -0.70873133, -0.7287847 , ...,  0.86738823,\n",
       "        -1.14128566,  0.54810709]])"
      ]
     },
     "execution_count": 21,
     "metadata": {},
     "output_type": "execute_result"
    }
   ],
   "source": [
    "x_train"
   ]
  },
  {
   "cell_type": "markdown",
   "id": "22fbfbed",
   "metadata": {},
   "source": [
    "# Model Building"
   ]
  },
  {
   "cell_type": "markdown",
   "id": "bb897ee8",
   "metadata": {},
   "source": [
    "### Implementing the RandomForestRegression Algorithm"
   ]
  },
  {
   "cell_type": "code",
   "execution_count": 126,
   "id": "940067f4",
   "metadata": {},
   "outputs": [],
   "source": [
    "from sklearn.ensemble import RandomForestRegressor"
   ]
  },
  {
   "cell_type": "code",
   "execution_count": 127,
   "id": "345e85f9",
   "metadata": {},
   "outputs": [],
   "source": [
    "rf = RandomForestRegressor(n_estimators=30,random_state=0)"
   ]
  },
  {
   "cell_type": "code",
   "execution_count": 128,
   "id": "4b85891d",
   "metadata": {},
   "outputs": [
    {
     "data": {
      "text/html": [
       "<style>#sk-container-id-19 {color: black;background-color: white;}#sk-container-id-19 pre{padding: 0;}#sk-container-id-19 div.sk-toggleable {background-color: white;}#sk-container-id-19 label.sk-toggleable__label {cursor: pointer;display: block;width: 100%;margin-bottom: 0;padding: 0.3em;box-sizing: border-box;text-align: center;}#sk-container-id-19 label.sk-toggleable__label-arrow:before {content: \"▸\";float: left;margin-right: 0.25em;color: #696969;}#sk-container-id-19 label.sk-toggleable__label-arrow:hover:before {color: black;}#sk-container-id-19 div.sk-estimator:hover label.sk-toggleable__label-arrow:before {color: black;}#sk-container-id-19 div.sk-toggleable__content {max-height: 0;max-width: 0;overflow: hidden;text-align: left;background-color: #f0f8ff;}#sk-container-id-19 div.sk-toggleable__content pre {margin: 0.2em;color: black;border-radius: 0.25em;background-color: #f0f8ff;}#sk-container-id-19 input.sk-toggleable__control:checked~div.sk-toggleable__content {max-height: 200px;max-width: 100%;overflow: auto;}#sk-container-id-19 input.sk-toggleable__control:checked~label.sk-toggleable__label-arrow:before {content: \"▾\";}#sk-container-id-19 div.sk-estimator input.sk-toggleable__control:checked~label.sk-toggleable__label {background-color: #d4ebff;}#sk-container-id-19 div.sk-label input.sk-toggleable__control:checked~label.sk-toggleable__label {background-color: #d4ebff;}#sk-container-id-19 input.sk-hidden--visually {border: 0;clip: rect(1px 1px 1px 1px);clip: rect(1px, 1px, 1px, 1px);height: 1px;margin: -1px;overflow: hidden;padding: 0;position: absolute;width: 1px;}#sk-container-id-19 div.sk-estimator {font-family: monospace;background-color: #f0f8ff;border: 1px dotted black;border-radius: 0.25em;box-sizing: border-box;margin-bottom: 0.5em;}#sk-container-id-19 div.sk-estimator:hover {background-color: #d4ebff;}#sk-container-id-19 div.sk-parallel-item::after {content: \"\";width: 100%;border-bottom: 1px solid gray;flex-grow: 1;}#sk-container-id-19 div.sk-label:hover label.sk-toggleable__label {background-color: #d4ebff;}#sk-container-id-19 div.sk-serial::before {content: \"\";position: absolute;border-left: 1px solid gray;box-sizing: border-box;top: 0;bottom: 0;left: 50%;z-index: 0;}#sk-container-id-19 div.sk-serial {display: flex;flex-direction: column;align-items: center;background-color: white;padding-right: 0.2em;padding-left: 0.2em;position: relative;}#sk-container-id-19 div.sk-item {position: relative;z-index: 1;}#sk-container-id-19 div.sk-parallel {display: flex;align-items: stretch;justify-content: center;background-color: white;position: relative;}#sk-container-id-19 div.sk-item::before, #sk-container-id-19 div.sk-parallel-item::before {content: \"\";position: absolute;border-left: 1px solid gray;box-sizing: border-box;top: 0;bottom: 0;left: 50%;z-index: -1;}#sk-container-id-19 div.sk-parallel-item {display: flex;flex-direction: column;z-index: 1;position: relative;background-color: white;}#sk-container-id-19 div.sk-parallel-item:first-child::after {align-self: flex-end;width: 50%;}#sk-container-id-19 div.sk-parallel-item:last-child::after {align-self: flex-start;width: 50%;}#sk-container-id-19 div.sk-parallel-item:only-child::after {width: 0;}#sk-container-id-19 div.sk-dashed-wrapped {border: 1px dashed gray;margin: 0 0.4em 0.5em 0.4em;box-sizing: border-box;padding-bottom: 0.4em;background-color: white;}#sk-container-id-19 div.sk-label label {font-family: monospace;font-weight: bold;display: inline-block;line-height: 1.2em;}#sk-container-id-19 div.sk-label-container {text-align: center;}#sk-container-id-19 div.sk-container {/* jupyter's `normalize.less` sets `[hidden] { display: none; }` but bootstrap.min.css set `[hidden] { display: none !important; }` so we also need the `!important` here to be able to override the default hidden behavior on the sphinx rendered scikit-learn.org. See: https://github.com/scikit-learn/scikit-learn/issues/21755 */display: inline-block !important;position: relative;}#sk-container-id-19 div.sk-text-repr-fallback {display: none;}</style><div id=\"sk-container-id-19\" class=\"sk-top-container\"><div class=\"sk-text-repr-fallback\"><pre>RandomForestRegressor(n_estimators=30, random_state=0)</pre><b>In a Jupyter environment, please rerun this cell to show the HTML representation or trust the notebook. <br />On GitHub, the HTML representation is unable to render, please try loading this page with nbviewer.org.</b></div><div class=\"sk-container\" hidden><div class=\"sk-item\"><div class=\"sk-estimator sk-toggleable\"><input class=\"sk-toggleable__control sk-hidden--visually\" id=\"sk-estimator-id-33\" type=\"checkbox\" checked><label for=\"sk-estimator-id-33\" class=\"sk-toggleable__label sk-toggleable__label-arrow\">RandomForestRegressor</label><div class=\"sk-toggleable__content\"><pre>RandomForestRegressor(n_estimators=30, random_state=0)</pre></div></div></div></div></div>"
      ],
      "text/plain": [
       "RandomForestRegressor(n_estimators=30, random_state=0)"
      ]
     },
     "execution_count": 128,
     "metadata": {},
     "output_type": "execute_result"
    }
   ],
   "source": [
    "rf.fit(x_train,y_train)"
   ]
  },
  {
   "cell_type": "markdown",
   "id": "c2e1a409",
   "metadata": {},
   "source": [
    "## Predicting the Value"
   ]
  },
  {
   "cell_type": "code",
   "execution_count": 129,
   "id": "117f768f",
   "metadata": {},
   "outputs": [],
   "source": [
    "y_pred = rf.predict(x_test)"
   ]
  },
  {
   "cell_type": "code",
   "execution_count": 130,
   "id": "9380c9f9",
   "metadata": {},
   "outputs": [
    {
     "data": {
      "text/plain": [
       "array([15.95333333, 30.6       , 31.13333333, 27.21333333, 15.84666667,\n",
       "       14.01666667, 32.60333333, 26.1       , 24.59666667, 14.36666667,\n",
       "       35.80333333, 19.54666667, 24.75333333, 18.08      , 28.08333333,\n",
       "       15.        , 33.05      , 37.68333333, 18.44666667, 23.15333333,\n",
       "       17.1       , 18.73      , 29.83666667, 28.93333333, 26.99666667,\n",
       "       26.12666667, 34.61      , 26.51333333, 35.71666667, 23.57666667,\n",
       "       15.58666667, 34.23333333, 14.46333333, 13.65      , 23.53333333,\n",
       "       13.15      , 34.19666667, 11.7       , 33.33666667, 20.40333333,\n",
       "       28.61333333, 29.40333333, 37.87      , 11.16666667, 20.58666667,\n",
       "       21.13      , 31.33666667, 19.14      , 18.07333333, 17.82666667,\n",
       "       18.26666667, 17.97666667, 25.73      , 27.51333333, 25.50666667,\n",
       "       14.08333333, 26.15666667, 25.84666667, 19.56666667, 20.40333333,\n",
       "       21.79333333, 25.53      , 13.96666667, 13.4       , 27.88      ,\n",
       "       23.11666667, 28.21666667, 15.81333333, 30.93333333, 36.49333333,\n",
       "       24.40333333, 21.46666667, 19.47      , 31.60666667, 14.93333333,\n",
       "       14.61666667, 28.9       , 22.06      , 13.5       , 17.49      ])"
      ]
     },
     "execution_count": 130,
     "metadata": {},
     "output_type": "execute_result"
    }
   ],
   "source": [
    "y_pred"
   ]
  },
  {
   "cell_type": "markdown",
   "id": "5f2e617b",
   "metadata": {},
   "source": [
    "## Model Evaluation"
   ]
  },
  {
   "cell_type": "code",
   "execution_count": 131,
   "id": "6c3d0871",
   "metadata": {},
   "outputs": [],
   "source": [
    "from sklearn.metrics import r2_score,mean_squared_error"
   ]
  },
  {
   "cell_type": "code",
   "execution_count": 132,
   "id": "00fed86a",
   "metadata": {},
   "outputs": [],
   "source": [
    "acc = r2_score(y_test, y_pred)"
   ]
  },
  {
   "cell_type": "code",
   "execution_count": 133,
   "id": "9a7e36b9",
   "metadata": {},
   "outputs": [
    {
     "data": {
      "text/plain": [
       "0.8570363544939325"
      ]
     },
     "execution_count": 133,
     "metadata": {},
     "output_type": "execute_result"
    }
   ],
   "source": [
    "acc"
   ]
  },
  {
   "cell_type": "code",
   "execution_count": 134,
   "id": "47601493",
   "metadata": {},
   "outputs": [],
   "source": [
    "err=np.sqrt(mean_squared_error(y_test,y_pred))"
   ]
  },
  {
   "cell_type": "code",
   "execution_count": 135,
   "id": "b18974de",
   "metadata": {},
   "outputs": [
    {
     "data": {
      "text/plain": [
       "2.7436940578959117"
      ]
     },
     "execution_count": 135,
     "metadata": {},
     "output_type": "execute_result"
    }
   ],
   "source": [
    "err"
   ]
  },
  {
   "cell_type": "markdown",
   "id": "236238a4",
   "metadata": {},
   "source": [
    "### Exporting the model"
   ]
  },
  {
   "cell_type": "code",
   "execution_count": 150,
   "id": "2039ef17",
   "metadata": {},
   "outputs": [],
   "source": [
    "import pickle"
   ]
  },
  {
   "cell_type": "code",
   "execution_count": 151,
   "id": "d5f83379",
   "metadata": {},
   "outputs": [],
   "source": [
    "pickle.dump(rf,open('RFregression.pkl','wb'))"
   ]
  },
  {
   "cell_type": "code",
   "execution_count": 22,
   "id": "6a65bac0",
   "metadata": {
    "scrolled": false
   },
   "outputs": [
    {
     "data": {
      "text/plain": [
       "array([[-0.76894131, -0.6338073 , -0.6601792 , -0.55841396,  0.37006707,\n",
       "        -0.38798451, -0.75260027],\n",
       "       [ 1.64342359,  2.07850256,  3.38793037,  1.59935958, -2.34958594,\n",
       "        -0.64240058, -0.75260027],\n",
       "       [-0.76894131, -0.50697267, -0.55222961, -0.74265735, -1.53369004,\n",
       "         1.64734406, -0.75260027],\n",
       "       [ 0.43724114,  0.37111326, -0.25536825,  0.40177755,  0.17580614,\n",
       "        -0.13356844, -0.75260027],\n",
       "       [ 1.64342359,  1.15163409,  0.68919065,  1.08206084, -0.05730697,\n",
       "         0.88409585, -0.75260027],\n",
       "       [-0.76894131, -0.86796355, -1.06499016, -1.03791919,  0.25351051,\n",
       "         1.39292799, -0.75260027],\n",
       "       [-0.76894131, -0.87772006, -0.714154  , -0.73675211, -0.40697665,\n",
       "        -0.38798451,  0.47613487],\n",
       "       [-0.76894131, -0.99479818, -1.01101537, -1.28593914,  0.68088456,\n",
       "         1.13851192,  0.47613487],\n",
       "       [-0.76894131, -0.87772006, -1.01101537, -1.10878203,  0.33121488,\n",
       "         0.37526371,  1.70487001],\n",
       "       [ 0.43724114,  0.1272005 , -0.52524222, -0.39779152,  0.17580614,\n",
       "        -1.4056488 , -0.75260027],\n",
       "       [-0.76894131, -1.08260677, -1.41582632, -1.50561395,  0.37006707,\n",
       "        -0.38798451,  1.70487001],\n",
       "       [ 1.64342359,  1.59067705,  2.03856051,  1.71982642, -1.33942911,\n",
       "         0.12084763, -0.75260027],\n",
       "       [ 0.43724114,  0.61502602, -0.714154  ,  0.76790224,  2.11841544,\n",
       "         0.12084763, -0.75260027],\n",
       "       [-0.76894131, -0.41916407, -0.22838085, -0.30566982, -0.64008976,\n",
       "         1.64734406,  1.70487001],\n",
       "       [-0.76894131, -0.64356381,  0.2304049 , -0.81470124, -1.18402036,\n",
       "        -1.4056488 ,  0.47613487],\n",
       "       [ 1.64342359,  1.27846872,  1.2289386 ,  0.6049177 , -1.76680315,\n",
       "        -1.4056488 , -0.75260027],\n",
       "       [-0.76894131, -0.87772006, -0.714154  , -0.86902942,  0.09810177,\n",
       "         1.13851192,  0.47613487],\n",
       "       [ 1.64342359,  1.59067705,  0.55425367,  1.15292368,  0.71973674,\n",
       "         0.88409585, -0.75260027],\n",
       "       [-0.76894131, -0.87772006, -0.44428003, -0.93753017, -0.40697665,\n",
       "        -1.15123272,  1.70487001],\n",
       "       [-0.76894131, -0.87772006, -0.714154  , -0.86666732, -0.56238539,\n",
       "         0.37526371,  0.47613487],\n",
       "       [ 1.64342359,  1.27846872,  0.82412764,  1.07025036, -0.13501135,\n",
       "         0.88409585, -0.75260027],\n",
       "       [-0.76894131, -0.72161589, -0.25536825, -0.76273515, -0.01845479,\n",
       "        -0.89681665,  1.70487001],\n",
       "       [-0.76894131, -1.13138933, -1.06499016, -1.35916408,  1.34137172,\n",
       "        -1.15123272,  1.70487001],\n",
       "       [-0.76894131, -0.83869402, -0.57921701, -0.85249475, -0.09615916,\n",
       "         0.12084763,  0.47613487],\n",
       "       [-0.76894131, -0.77039845, -0.93005317, -0.80170972,  0.52547581,\n",
       "         1.64734406,  1.70487001],\n",
       "       [-1.37203254, -1.14114584, -0.20139345, -0.70132069, -0.79549851,\n",
       "        -0.89681665,  1.70487001],\n",
       "       [-0.76894131, -0.99479818, -0.93005317, -1.15602393,  0.48662363,\n",
       "         0.37526371,  1.70487001],\n",
       "       [-0.76894131, -0.30208595, -0.33633044, -0.40015361, -0.40697665,\n",
       "         1.64734406, -0.75260027],\n",
       "       [-0.76894131, -0.45819012, -0.33633044, -0.06946035,  0.33121488,\n",
       "         1.64734406, -0.75260027],\n",
       "       [-0.76894131, -0.7313724 , -0.44428003, -0.33519601,  1.18596297,\n",
       "         1.64734406, -0.75260027],\n",
       "       [ 1.64342359,  1.91264189,  1.76868654,  0.75491072, -2.15532501,\n",
       "        -1.4056488 , -0.75260027],\n",
       "       [-0.16585009, -0.03866017, -0.74114139,  0.71593615,  1.76874576,\n",
       "         0.88409585,  0.47613487],\n",
       "       [ 1.64342359,  1.60043356,  1.28291339,  1.5249536 , -1.06746381,\n",
       "         0.12084763, -0.75260027],\n",
       "       [-0.76894131, -0.45819012, -0.49825482, -0.1580389 ,  0.0203974 ,\n",
       "         1.64734406, -0.75260027],\n",
       "       [ 1.64342359,  1.27846872,  1.2289386 ,  1.85919001, -0.40697665,\n",
       "        -0.13356844, -0.75260027],\n",
       "       [-0.76894131, -0.78015496, -0.49825482, -0.54306034, -0.01845479,\n",
       "         0.12084763,  0.47613487],\n",
       "       [-0.76894131, -0.64356381,  0.14944271, -0.31157506, -0.60123758,\n",
       "        -0.64240058,  0.47613487],\n",
       "       [ 0.43724114,  0.42965232,  0.14944271,  0.13604189, -0.21271572,\n",
       "        -0.13356844, -0.75260027],\n",
       "       [ 0.43724114,  0.37111326,  0.01450573,  0.60846084, -0.01845479,\n",
       "        -1.15123272, -0.75260027],\n",
       "       [-0.76894131, -0.72161589, -0.25536825, -0.6517167 , -0.21271572,\n",
       "        -1.4056488 ,  1.70487001],\n",
       "       [ 1.64342359,  1.91264189,  2.03856051,  2.39892865, -1.57254222,\n",
       "        -1.15123272, -0.75260027],\n",
       "       [ 0.43724114,  0.43940883, -0.39030523,  0.33800099,  0.64203237,\n",
       "         0.62967978, -0.75260027],\n",
       "       [-0.76894131, -0.86796355, -0.98402797, -1.03791919,  1.14711079,\n",
       "         0.37526371,  1.70487001],\n",
       "       [-0.76894131, -0.6338073 , -0.49825482, -0.82414962,  0.37006707,\n",
       "        -0.89681665, -0.75260027],\n",
       "       [ 1.64342359,  2.07850256,  1.76868654,  2.15208975, -1.37828129,\n",
       "        -1.15123272, -0.75260027],\n",
       "       [-0.76894131, -0.93625912, -1.01101537, -1.26822343, -0.67894195,\n",
       "         1.13851192,  1.70487001],\n",
       "       [ 1.64342359,  1.60043356,  1.44483777,  1.69974861, -0.98975944,\n",
       "        -0.64240058, -0.75260027],\n",
       "       [-0.76894131, -0.3508685 , -0.39030523, -0.29031621,  0.37006707,\n",
       "         1.13851192, -0.75260027],\n",
       "       [-0.76894131, -0.86796355, -0.39030523, -0.77808877, -0.01845479,\n",
       "        -0.64240058,  0.47613487],\n",
       "       [ 1.64342359,  2.36144136,  2.52433366,  2.39538551, -1.57254222,\n",
       "        -0.64240058, -0.75260027],\n",
       "       [-0.76894131, -0.3508685 , -0.33633044,  0.1313177 ,  1.92415451,\n",
       "         1.64734406, -0.75260027],\n",
       "       [-0.76894131, -1.05333724, -0.93005317, -1.00366882,  1.53563265,\n",
       "        -1.15123272,  0.47613487],\n",
       "       [ 0.43724114,  0.61502602, -0.17440605,  0.71003092,  1.34137172,\n",
       "         0.37526371, -0.75260027],\n",
       "       [-0.76894131, -0.45819012, -0.44428003, -0.03993416,  0.68088456,\n",
       "         0.88409585, -0.75260027],\n",
       "       [ 0.43724114,  0.42965232,  1.63374955,  0.61554713, -0.83435069,\n",
       "         0.62967978, -0.75260027],\n",
       "       [ 1.64342359,  2.61511063,  3.25299338,  1.77297355, -2.15532501,\n",
       "        -1.4056488 , -0.75260027],\n",
       "       [-0.76894131, -1.12163282, -0.95704057, -1.54813166,  0.95284986,\n",
       "        -1.15123272,  1.70487001],\n",
       "       [ 0.43724114,  0.1272005 , -0.52524222,  0.04864439,  0.09810177,\n",
       "         0.62967978, -0.75260027],\n",
       "       [-0.76894131, -0.87772006, -0.44428003, -0.76155411,  1.34137172,\n",
       "        -0.64240058,  1.70487001],\n",
       "       [-0.76894131, -0.87772006, -0.33633044, -0.75092468,  0.564328  ,\n",
       "        -0.89681665,  1.70487001],\n",
       "       [ 0.43724114,  0.37111326, -0.12043126,  0.59783142,  0.64203237,\n",
       "         0.62967978, -0.75260027],\n",
       "       [ 0.43724114,  0.43940883, -0.12043126, -0.15921995, -0.21271572,\n",
       "        -0.64240058, -0.75260027],\n",
       "       [-0.76894131, -0.3508685 , -0.39030523, -0.22299651,  0.95284986,\n",
       "         1.64734406, -0.75260027],\n",
       "       [ 1.64342359,  1.12236455,  0.95906463,  0.62027132, -1.96106408,\n",
       "        -1.4056488 , -0.75260027],\n",
       "       [ 0.43724114,  0.61502602, -0.12043126,  0.48681296,  0.564328  ,\n",
       "        -0.38798451, -0.75260027],\n",
       "       [-0.76894131, -0.51672918, -0.39030523, -0.25134164, -0.01845479,\n",
       "         1.13851192,  1.70487001],\n",
       "       [-0.76894131, -0.65332032, -0.47126742,  0.06517905,  1.53563265,\n",
       "        -0.89681665,  0.47613487],\n",
       "       [-0.76894131, -0.78015496, -0.79511619, -0.84895161, -0.40697665,\n",
       "         1.64734406,  1.70487001],\n",
       "       [-0.76894131, -0.86796355, -0.25536825, -1.03673814,  1.34137172,\n",
       "        -1.15123272, -0.75260027],\n",
       "       [ 0.43724114,  0.6930781 ,  0.14944271,  0.04510125, -0.79549851,\n",
       "        -1.15123272, -0.75260027],\n",
       "       [-0.76894131, -0.93625912, -0.93005317, -1.14421345,  1.92415451,\n",
       "        -1.15123272, -0.75260027],\n",
       "       [ 0.43724114, -0.23379038,  0.77015285,  0.57421047,  0.09810177,\n",
       "         0.62967978,  0.47613487],\n",
       "       [ 1.64342359,  0.71259112,  0.14944271,  1.34189126,  1.34137172,\n",
       "         0.37526371, -0.75260027],\n",
       "       [ 1.64342359,  1.27846872,  1.2289386 ,  1.81076706, -0.79549851,\n",
       "        -0.38798451, -0.75260027],\n",
       "       [-0.76894131, -0.69234636, -0.79511619, -0.90446084, -0.01845479,\n",
       "        -0.64240058,  0.47613487],\n",
       "       [ 0.43724114,  0.1272005 , -0.39030523, -0.05764987,  0.564328  ,\n",
       "        -0.38798451, -0.75260027],\n",
       "       [-0.76894131, -0.30208595,  0.01450573, -0.14622843, -0.44582883,\n",
       "         1.13851192, -0.75260027],\n",
       "       [-0.76894131, -0.6338073 , -0.49825482, -0.62455261,  0.17580614,\n",
       "        -0.89681665, -0.75260027],\n",
       "       [-0.76894131, -0.70210287, -0.25536825, -0.27141945, -0.21271572,\n",
       "        -0.13356844,  0.47613487],\n",
       "       [ 1.64342359,  1.12236455,  0.95906463,  1.4375561 , -0.60123758,\n",
       "        -0.38798451, -0.75260027]])"
      ]
     },
     "execution_count": 22,
     "metadata": {},
     "output_type": "execute_result"
    }
   ],
   "source": [
    "x_test"
   ]
  },
  {
   "cell_type": "code",
   "execution_count": null,
   "id": "6b24376f",
   "metadata": {},
   "outputs": [],
   "source": []
  },
  {
   "cell_type": "code",
   "execution_count": null,
   "id": "296ee452",
   "metadata": {},
   "outputs": [],
   "source": []
  }
 ],
 "metadata": {
  "kernelspec": {
   "display_name": "Python 3 (ipykernel)",
   "language": "python",
   "name": "python3"
  },
  "language_info": {
   "codemirror_mode": {
    "name": "ipython",
    "version": 3
   },
   "file_extension": ".py",
   "mimetype": "text/x-python",
   "name": "python",
   "nbconvert_exporter": "python",
   "pygments_lexer": "ipython3",
   "version": "3.10.6"
  }
 },
 "nbformat": 4,
 "nbformat_minor": 5
}
